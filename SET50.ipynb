{
 "metadata": {
  "language_info": {
   "codemirror_mode": {
    "name": "ipython",
    "version": 3
   },
   "file_extension": ".py",
   "mimetype": "text/x-python",
   "name": "python",
   "nbconvert_exporter": "python",
   "pygments_lexer": "ipython3",
   "version": "3.9.1-final"
  },
  "orig_nbformat": 2,
  "kernelspec": {
   "name": "pycharm-6b00a956",
   "display_name": "PyCharm (Assgn)",
   "language": "python"
  }
 },
 "nbformat": 4,
 "nbformat_minor": 2,
 "cells": [
  {
   "cell_type": "code",
   "execution_count": 1,
   "metadata": {},
   "outputs": [],
   "source": [
    "\n",
    "from pandas_datareader import data\n",
    "import matplotlib.pyplot as plt\n",
    "import pandas as pd\n",
    "import numpy as np"
   ]
  },
  {
   "cell_type": "code",
   "execution_count": 2,
   "metadata": {},
   "outputs": [],
   "source": [
    "def buyandhold(data_frame, is_plot=False):\n",
    "  \"\"\"\n",
    "  Buy and Hold strategy:\n",
    "  Inputs: \n",
    "          data_frame: pandas dataframe of the stock prices. It must have the \"Adj Close\" prices\n",
    "          is_plot: If true, this code will plot the Adj close price and show the buy and sell points.\n",
    "  output:\n",
    "          signal indicator: the series of indicators 1 to take the position, 0 for keep previous status and -1 to clear the position.\n",
    "\n",
    "  \"\"\"\n",
    "\n",
    "  close = data_frame['Adj Close']\n",
    "  status = 0\n",
    "  signal = []\n",
    "  for k in range(close.shape[0]):\n",
    "    if k == 0:\n",
    "      signal.append(1)\n",
    "    else:\n",
    "      signal.append(0)\n",
    "  signal = pd.Series(data=signal, index=data_frame.index)\n",
    "  buy_sig = close[signal == 1]\n",
    "  sell_sig = close[signal == -1]\n",
    "  if is_plot:\n",
    "    plt.figure(figsize=(15,10))\n",
    "    plt.plot(close)    \n",
    "    plt.plot(buy_sig, color=\"red\", marker=\"^\",linestyle=\"\")   \n",
    "    plt.plot(sell_sig, color=\"black\", marker=\"v\",linestyle=\"\")  \n",
    "    plt.legend([\"Adj Close\",\"Buy\", \"Sell\"])\n",
    "    plt.title(\"Buy and Hold\")\n",
    "    plt.grid()\n",
    "  return signal\n"
   ]
  },
  {
   "cell_type": "code",
   "execution_count": 3,
   "metadata": {},
   "outputs": [],
   "source": [
    "def bollinger(data_frame, is_plot=False):\n",
    "  \"\"\"\n",
    "  Bollinger Band strategy:\n",
    "  Inputs: \n",
    "          data_frame: pandas dataframe of the stock prices. It must have the \"Adj Close\" prices\n",
    "          is_plot: If true, this code will plot the Adj close price and show the buy and sell points.\n",
    "  output:\n",
    "          signal indicator: the series of indicators 1 to take the position, 0 for keep previous status and -1 to clear the position.\n",
    "\n",
    "  \"\"\"\n",
    "  close = data_frame['Adj Close']\n",
    "  win = 10 \n",
    "  ma = close.rolling(win).mean()\n",
    "  std = close.rolling(win).std()\n",
    "  up = ma + std\n",
    "  low = ma - std  \n",
    "  status = 0\n",
    "  signal = []\n",
    "  for k in range(close.shape[0]):\n",
    "    closek = close[k]\n",
    "    if (closek >  up[k]) and (status == 0): # buy\n",
    "      signal.append(1)\n",
    "      status = 1\n",
    "    elif (closek < low[k]) and (status == 1): # sell\n",
    "      signal.append(-1)\n",
    "      status = 0\n",
    "    else:\n",
    "      signal.append(0)\n",
    "\n",
    "  signal = pd.Series(data=signal, index=data_frame.index)\n",
    "  buy_sig = close[signal == 1]\n",
    "  sell_sig = close[signal == -1]\n",
    "  if is_plot:\n",
    "    plt.figure(figsize=(15,10))\n",
    "    plt.plot(close)\n",
    "    plt.plot(up)\n",
    "    plt.plot(low) \n",
    "    plt.plot(buy_sig, color=\"red\", marker=\"^\",linestyle=\"\")   \n",
    "    plt.plot(sell_sig, color=\"black\", marker=\"v\",linestyle=\"\")  \n",
    "    plt.legend([\"Adj Close\",\"High\", \"Low\", \"Buy\", \"Sell\"])\n",
    "    plt.title(\"Bollinger Bands\")\n",
    "    plt.grid()\n",
    "  return signal\n"
   ]
  },
  {
   "cell_type": "code",
   "execution_count": 4,
   "metadata": {},
   "outputs": [],
   "source": [
    "def rsi(data_frame, is_plot=False):\n",
    "  \"\"\"\n",
    "  Relative Signal Strength:\n",
    "  Inputs: \n",
    "          data_frame: pandas dataframe of the stock prices. It must have the \"Adj Close\" prices\n",
    "          is_plot: If true, this code will plot the Adj close price and show the buy and sell points.\n",
    "  output:\n",
    "          signal indicator: the series of indicators 1 to take the position, 0 for keep previous status and -1 to clear the position.\n",
    "\n",
    "  \"\"\"\n",
    "  window_length= 14\n",
    "  upv = 70\n",
    "  lowv= 40\n",
    "  close = data_frame['Adj Close']\n",
    "  delta = close.diff(1) \n",
    " \n",
    "  up, down = delta.copy(), delta.copy()\n",
    "  up[up < 0] = 0\n",
    "  down[down > 0] = 0\n",
    "  roll_up1 = up.ewm(span=window_length).mean()\n",
    "  roll_down1 = down.abs().ewm(span=window_length).mean()\n",
    "  # Calculate the RSI based on EWMA\n",
    "  RS1 = roll_up1 / roll_down1\n",
    "  RSI1 = 100.0 - (100.0 / (1.0 + RS1))\n",
    "  status = 0\n",
    "  signal = []\n",
    "  for k in range(close.shape[0]):\n",
    "    rsk = RSI1[k]\n",
    "    if (rsk < lowv) and (status == 0): # buy\n",
    "      signal.append(1)\n",
    "      status = 1\n",
    "    elif (rsk > upv) and (status == 1): # sell\n",
    "      signal.append(-1)\n",
    "      status = 0\n",
    "    else:\n",
    "      signal.append(0)\n",
    "\n",
    "  signal = pd.Series(data=signal, index=data_frame.index)\n",
    "  buy_sig = close[signal == 1]\n",
    "  sell_sig = close[signal == -1]\n",
    "\n",
    "  if is_plot:  \n",
    "    plt.figure(figsize=(15,10))\n",
    "    plt.subplot(2,1,1)\n",
    "    plt.plot(close)\n",
    "    plt.plot(buy_sig, color=\"red\", marker=\"^\",linestyle=\"\")   \n",
    "    plt.plot(sell_sig, color=\"black\", marker=\"v\",linestyle=\"\")  \n",
    "    plt.legend([\"Adj Close\",\"Buy\", \"Sell\"])\n",
    "    plt.grid()\n",
    "    plt.title(\"RSI\")\n",
    "    plt.subplot(2,1,2)\n",
    "    plt.plot(RSI1)\n",
    "    plt.plot(RSI1.index, upv*np.ones((close.shape[0],)),\"b--\")\n",
    "    plt.plot(RSI1.index, lowv*np.ones((close.shape[0],)),\"b--\")\n",
    "    plt.legend(['RSI', \"SELL Band\", \"BUY Band\"])\n",
    "    plt.grid()\n",
    "    plt.title(\"RSI Value\")\n",
    "  return signal\n"
   ]
  },
  {
   "cell_type": "code",
   "execution_count": 5,
   "metadata": {},
   "outputs": [],
   "source": [
    "def movingavg(data_frame, is_plot=False):\n",
    "  \"\"\"\n",
    "  Moving Average crossing strategy:\n",
    "  Inputs: \n",
    "          data_frame: pandas dataframe of the stock prices. It must have the \"Adj Close\" prices\n",
    "          is_plot: If true, this code will plot the Adj close price and show the buy and sell points.\n",
    "  output:\n",
    "          signal indicator: the series of indicators 1 to take the position, 0 for keep previous status and -1 to clear the position.\n",
    "\n",
    "  \"\"\"\n",
    "  long_win = 25\n",
    "  short_win = 10\n",
    "  close = data_frame['Adj Close'] \n",
    "  mu_long = close.rolling(long_win).mean()\n",
    "  mu_short = close.rolling(short_win).mean()\n",
    "  signal = []\n",
    "  status = 0\n",
    "  for k in range(close.shape[0]):\n",
    "    if ( mu_short[k] > mu_long[k]) and (status ==0):\n",
    "      signal.append(1)\n",
    "      status = 1\n",
    "    elif (mu_short[k] < mu_long[k]) and (status ==1):\n",
    "      signal.append(-1)\n",
    "      status = 0\n",
    "    else:\n",
    "      signal.append(0)\n",
    "\n",
    "  signal = pd.Series(data=signal, index=data_frame.index)\n",
    "  buy_sig = close[signal == 1]\n",
    "  sell_sig = close[signal == -1]\n",
    "  if is_plot:\n",
    "    plt.figure(figsize=(15,10))\n",
    "    plt.plot(close)    \n",
    "    plt.plot(mu_long)\n",
    "    plt.plot(mu_short)\n",
    "    plt.plot(buy_sig, color=\"red\", marker=\"^\",linestyle=\"\")   \n",
    "    plt.plot(sell_sig, color=\"black\", marker=\"v\",linestyle=\"\")  \n",
    "    plt.legend([\"Adj Close\",f\"MA({long_win})\", f\"MA({short_win})\", \"Buy\", \"Sell\"])\n",
    "    plt.title(\"Moving Average Crossing\")\n",
    "    plt.grid()\n",
    "  return signal\n"
   ]
  },
  {
   "cell_type": "code",
   "execution_count": 6,
   "metadata": {},
   "outputs": [],
   "source": [
    "def techicalTrading(stock_info, # dataframe of a stock\n",
    "                    indicator, # trade indicator\n",
    "                    initial_money=1000000 #Starting money\n",
    "                    ):\n",
    "  \"\"\"\n",
    "  Trader simulation:\n",
    "  Inputs: \n",
    "        stock_info: stock price data frames\n",
    "        indicator: time-series indicator: 1 for Buy, -1 for sell, 0 for nothing\n",
    "        initinal_money: initial money in the port. default 1M \n",
    "  output:\n",
    "        wealth: time-series money in the port\n",
    "  \"\"\"\n",
    "\n",
    "  num_dates, _ = stock_info.shape\n",
    "  status = \"NONE\" # Start with no poistion\n",
    "  stock= 0\n",
    "  money = initial_money\n",
    "  wealth = []\n",
    "  close = stock_info['Adj Close']\n",
    "  for k in range(num_dates):\n",
    "    indicatork = indicator[k]\n",
    "    if not np.isnan(indicatork): # if it is not NA\n",
    "      if (indicatork > 0) and ( status == \"NONE\"):\n",
    "        stock = money/close.values[k]\n",
    "        #print(f\"Buy at {close.values[k]}\")\n",
    "        money = 0\n",
    "        status = \"HOLD\"\n",
    "      elif (indicatork < 0) and ( status == \"HOLD\"):\n",
    "        money = stock * close.values[k]\n",
    "        stock =  0\n",
    "        #print(f\"Sell at {close.values[k]}\")\n",
    "        status = \"NONE\"\n",
    "    cur_wealth = money + stock * close.values[k]\n",
    "    wealth.append(cur_wealth)\n",
    "  wealth = pd.Series(data=wealth, index=stock_info.index)  \n",
    "  return wealth \n",
    "\n"
   ]
  },
  {
   "cell_type": "code",
   "execution_count": 7,
   "metadata": {},
   "outputs": [],
   "source": [
    "set50_list = [\"ADVANC\",\"AOT\",\"AWC\",\"BBL\",\"BDMS\",\"BEM\",\"BGRIM\",\"BH\",\"BJC\",\"BPP\",\"BTS\",\"CBG\",\"CPALL\",\"CPF\",\"CPN\",\"CRC\",\"DTAC\",\"EA\",\"EGCO\",\"GLOBAL\",\"GPSC\",\"GULF\",\"HMPRO\",\"INTUCH\",\"IRPC\",\"IVL\",\"KBANK\",\"KTB\",\"KTC\",\"LH\",\"MINT\",\"MTC\",\"OSP\",\"PTT\",\"PTTEP\",\"PTTGC\",\"RATCH\",\"SAWAD\",\"SCB\",\"SCC\",\"SCGP\",\"TISCO\",\"TMB\",\"TOA\",\"TOP\",\"TRUE\",\"TTW\",\"TU\",\"VGI\",\"WHA\"]\n",
    "set50 = dict()\n"
   ]
  },
  {
   "source": [
    "Question 1: Use dataset of SET50 list in 2020 (https://www.set.or.th/th/market/files/constituents/SET50_100_H2_2020_revised.pdf) Compute the return in 2020 from 2020-01-01 to 2020-12-31. Find out\n",
    "\n",
    "1. Average annual return 0.41% and annual STD 6.42 for buy and hold\n",
    "\n",
    "2. Average annual return 0.00% and annual STD 24.05 for moving average crossing\n",
    "\n",
    "3. Average annual return 0.00% and annual STD 30.15 for Bollinger Band\n",
    "\n",
    "4. Average annual return 0.41% and annual STD 21.32 for RSI"
   ],
   "cell_type": "markdown",
   "metadata": {}
  },
  {
   "cell_type": "code",
   "execution_count": 22,
   "metadata": {},
   "outputs": [
    {
     "output_type": "stream",
     "name": "stdout",
     "text": [
      "Average annual return is 0.41%\nAverage annual STD is 6.42\n"
     ]
    }
   ],
   "source": [
    "for stock in set50_list:\n",
    "    df = data.DataReader(f\"{stock}.BK\",\"yahoo\",\"2020-01-01\",\"2020-12-31\")\n",
    "    ['Adj Close']\n",
    "    indicator = buyandhold(df, is_plot=False)\n",
    "    print(f\"Average annual return is {indicator.mean()*100.0:2.2f}%\")\n",
    "    print(f\"Average annual STD is {indicator.std()*100.0:2.2f}\")\n",
    "    break"
   ]
  },
  {
   "cell_type": "code",
   "execution_count": 23,
   "metadata": {},
   "outputs": [
    {
     "output_type": "stream",
     "name": "stdout",
     "text": [
      "Average annual return is 0.00%\nAverage annual STD is 24.05\n"
     ]
    }
   ],
   "source": [
    "for stock in set50_list:\n",
    "    df = data.DataReader(f\"{stock}.BK\",\"yahoo\",\"2020-01-01\",\"2020-12-31\")\n",
    "    ['Adj Close']\n",
    "    indicator = movingavg(df, is_plot=False)\n",
    "    print(f\"Average annual return is {indicator.mean()*100.0:2.2f}%\")\n",
    "    print(f\"Average annual STD is {indicator.std()*100.0:2.2f}\")\n",
    "    break"
   ]
  },
  {
   "cell_type": "code",
   "execution_count": 24,
   "metadata": {},
   "outputs": [
    {
     "output_type": "stream",
     "name": "stdout",
     "text": [
      "Average annual return is 0.00%\nAverage annual STD is 30.15\n"
     ]
    }
   ],
   "source": [
    "for stock in set50_list:\n",
    "    df = data.DataReader(f\"{stock}.BK\",\"yahoo\",\"2020-01-01\",\"2020-12-31\")\n",
    "    ['Adj Close']\n",
    "    indicator = bollinger(df, is_plot=False)\n",
    "    print(f\"Average annual return is {indicator.mean()*100.0:2.2f}%\")\n",
    "    print(f\"Average annual STD is {indicator.std()*100.0:2.2f}\")\n",
    "    break"
   ]
  },
  {
   "cell_type": "code",
   "execution_count": 25,
   "metadata": {},
   "outputs": [
    {
     "output_type": "stream",
     "name": "stdout",
     "text": [
      "Average annual return is 0.41%\nAverage annual STD is 21.32\n"
     ]
    }
   ],
   "source": [
    "for stock in set50_list:\n",
    "    df = data.DataReader(f\"{stock}.BK\",\"yahoo\",\"2020-01-01\",\"2020-12-31\")\n",
    "    ['Adj Close']\n",
    "    indicator = rsi(df, is_plot=False)\n",
    "    print(f\"Average annual return is {indicator.mean()*100.0:2.2f}%\")\n",
    "    print(f\"Average annual STD is {indicator.std()*100.0:2.2f}\")\n",
    "    break"
   ]
  },
  {
   "source": [
    "Question 2: Compute 95% confidence interval of the average annual return for each strategies.\n",
    "\n",
    "1. Specify the type of statistics used in computing the confidence interval  z-statistics. (z-statistics or t-statistics)\n",
    "\n",
    "2. 95% Confidence interval for Buy and hold is (-0.00395046907218129, 0.01218092174707841).\n",
    "\n",
    "3. 95% Confidence interval for moving average crossing is (-0.030241357974889076, 0.030241357974889076).\n",
    "\n",
    "4. 95% Confidence interval for Bollinger Band is (-0.037909548465146915, 0.037909548465146915).\n",
    "\n",
    "5. 95% Confidence interval for RSI is (-0.022685857750202515, 0.03091631042509964).\n"
   ],
   "cell_type": "markdown",
   "metadata": {}
  },
  {
   "cell_type": "code",
   "execution_count": 26,
   "metadata": {},
   "outputs": [
    {
     "output_type": "stream",
     "name": "stdout",
     "text": [
      "95% Confidence interval for Buy and hold is (-0.00395046907218129, 0.01218092174707841)\n"
     ]
    }
   ],
   "source": [
    "import scipy.stats as st\n",
    "import numpy as np\n",
    "from scipy.stats import norm\n",
    "from pandas_datareader import data\n",
    "\n",
    "for stock in set50_list:\n",
    "    df = data.DataReader(f\"{stock}.BK\",\"yahoo\",\"2020-01-01\",\"2020-12-31\")\n",
    "    ['Adj Close']\n",
    "    indicator = buyandhold(df, is_plot=False)\n",
    "\n",
    "    ret = indicator.pct_change(1).dropna() \n",
    "    num = indicator.count()\n",
    "    mean = indicator.mean()\n",
    "    std = indicator.std()\n",
    "\n",
    "    Interval = st.norm.interval(0.95, loc=mean, scale=std/np.sqrt(num))\n",
    "    print(f\"95% Confidence interval for Buy and hold is {Interval}\")\n",
    "    break"
   ]
  },
  {
   "cell_type": "code",
   "execution_count": 27,
   "metadata": {},
   "outputs": [
    {
     "output_type": "stream",
     "name": "stdout",
     "text": [
      "95% Confidence interval for moving average crossing is (-0.030241357974889076, 0.030241357974889076)\n"
     ]
    }
   ],
   "source": [
    "import scipy.stats as st\n",
    "import numpy as np\n",
    "from scipy.stats import norm\n",
    "from pandas_datareader import data\n",
    "\n",
    "for stock in set50_list:\n",
    "    df = data.DataReader(f\"{stock}.BK\",\"yahoo\",\"2020-01-01\",\"2020-12-31\")\n",
    "    ['Adj Close']\n",
    "    indicator = movingavg(df, is_plot=False)\n",
    "\n",
    "    ret = indicator.pct_change(1).dropna() \n",
    "    num = indicator.count()\n",
    "    mean = indicator.mean()\n",
    "    std = indicator.std()\n",
    "\n",
    "    Interval = st.norm.interval(0.95, loc=mean, scale=std/np.sqrt(num))\n",
    "    print(f\"95% Confidence interval for moving average crossing is {Interval}\")\n",
    "    break"
   ]
  },
  {
   "cell_type": "code",
   "execution_count": 30,
   "metadata": {},
   "outputs": [
    {
     "output_type": "stream",
     "name": "stdout",
     "text": [
      "95% Confidence interval for bollinger band is (-0.037909548465146915, 0.037909548465146915)\n"
     ]
    }
   ],
   "source": [
    "import scipy.stats as st\n",
    "import numpy as np\n",
    "from scipy.stats import norm\n",
    "from pandas_datareader import data\n",
    "\n",
    "for stock in set50_list:\n",
    "    df = data.DataReader(f\"{stock}.BK\",\"yahoo\",\"2020-01-01\",\"2020-12-31\")\n",
    "    ['Adj Close']\n",
    "    indicator = bollinger(df, is_plot=False)\n",
    "\n",
    "    ret = indicator.pct_change(1).dropna() \n",
    "    num = indicator.count()\n",
    "    mean = indicator.mean()\n",
    "    std = indicator.std()\n",
    "\n",
    "    Interval = st.norm.interval(0.95, loc=mean, scale=std/np.sqrt(num))\n",
    "    print(f\"95% Confidence interval for bollinger band is {Interval}\")\n",
    "    break"
   ]
  },
  {
   "cell_type": "code",
   "execution_count": 29,
   "metadata": {},
   "outputs": [
    {
     "output_type": "stream",
     "name": "stdout",
     "text": [
      "95% Confidence interval for rsi is (-0.022685857750202515, 0.03091631042509964)\n"
     ]
    }
   ],
   "source": [
    "import scipy.stats as st\n",
    "import numpy as np\n",
    "from scipy.stats import norm\n",
    "from pandas_datareader import data\n",
    "\n",
    "for stock in set50_list:\n",
    "    df = data.DataReader(f\"{stock}.BK\",\"yahoo\",\"2020-01-01\",\"2020-12-31\")\n",
    "    ['Adj Close']\n",
    "    indicator = rsi(df, is_plot=False)\n",
    "\n",
    "    ret = indicator.pct_change(1).dropna() \n",
    "    num = indicator.count()\n",
    "    mean = indicator.mean()\n",
    "    std = indicator.std()\n",
    "\n",
    "    Interval = st.norm.interval(0.95, loc=mean, scale=std/np.sqrt(num))\n",
    "    print(f\"95% Confidence interval for rsi is {Interval}\")\n",
    "    break"
   ]
  },
  {
   "source": [
    "Use the t-test to make the conclusion whether any of these strategies yield positive return.\n",
    "\n",
    "1. Buy and Hold has t-score: _________________ and p-value ____________. Can it make profit? ___________ (yes or no). \n",
    "\n",
    "2. Moving average crossing has t-score: _________________ and p-value ____________. Can it make profit? ___________ (yes or no). \n",
    "\n",
    "3. Bollinger Band has t-score: _________________ and p-value ____________. Can it make profit? ___________ (yes or no). \n",
    "\n",
    "4. RSI has t-score: _________________ and p-value ____________. Can it make profit? ___________ (yes or no). "
   ],
   "cell_type": "markdown",
   "metadata": {}
  },
  {
   "cell_type": "code",
   "execution_count": 57,
   "metadata": {},
   "outputs": [
    {
     "output_type": "stream",
     "name": "stdout",
     "text": [
      "Buy and Hold of CBG has t-score: nan, and p-value  nan.\n",
      "Buy and Hold of BGRIM has t-score: nan, and p-value  nan.\n",
      "Buy and Hold of GULF has t-score: nan, and p-value  nan.\n",
      "Buy and Hold of OSP has t-score: nan, and p-value  nan.\n",
      "Buy and Hold of SAWAD has t-score: nan, and p-value  nan.\n"
     ]
    }
   ],
   "source": [
    "from scipy.stats import ttest_1samp\n",
    "# set50_list = [\"ADVANC\",\"AOT\",\"AWC\",\"BBL\",\"BDMS\",\"BEM\",\"BGRIM\",\"BH\",\"BJC\",\"BPP\",\"BTS\",\"CBG\",\"CPALL\",\"CPF\",\"CPN\",\"CRC\",\"DTAC\",\"EA\",\"EGCO\",\"GLOBAL\",\"GPSC\",\"GULF\",\"HMPRO\",\"INTUCH\",\"IRPC\",\"IVL\",\"KBANK\",\"KTB\",\"KTC\",\"LH\",\"MINT\",\"MTC\",\"OSP\",\"PTT\",\"PTTEP\",\"PTTGC\",\"RATCH\",\"SAWAD\",\"SCB\",\"SCC\",\"SCGP\",\"TISCO\",\"TMB\",\"TOA\",\"TOP\",\"TRUE\",\"TTW\",\"TU\",\"VGI\",\"WHA\"]\n",
    "set5_list = [\"CBG\",\"BGRIM\",\"GULF\",\"OSP\",\"SAWAD\"]\n",
    "stock_info = dict()\n",
    "\n",
    "for stock in set5_list:\n",
    "        df = data.DataReader(stock+\".BK\",\"yahoo\",\"2020-01-01\",\"2020-12-31\")\n",
    "        ['Adj Close']\n",
    "        indicator = buyandhold(df, is_plot=False)\n",
    "        close_price = indicator.values\n",
    "        ret = close_price[1:]/close_price[:-1] - 1 \n",
    "        t_score, p_value = ttest_1samp(ret, popmean=0)\n",
    "        print(f\"Buy and Hold of {stock} has t-score: {t_score:2.3f}, and p-value  {p_value:0.4f}.\")\n",
    "        \n",
    "            # try: \n",
    "            #     print(\"Yes\")\n",
    "            # except:\n",
    "            #     print(\"No\")"
   ]
  },
  {
   "source": [
    "Next, we compare againts Buy-and-Hold startegy using t-score. Here,\n",
    "\n",
    "H0 : A strategy is the same or worst than buy-and-hold\n",
    "\n",
    "H1: A strategy is better than buy and hold:\n",
    "\n",
    "1. Moving Average vs Buy and Hold: t-score_______ p-value ______. Is moving average better than buy and hold? _____ (yes or no)\n",
    "\n",
    "2. Bolling Band vs Buy and Hold: t-score_______ p-value ______. Is moving average better than buy and hold? _____ (yes or no)\n",
    "\n",
    "3. RSI vs Buy and Hold: t-score_______ p-value ______. Is moving average better than buy and hold? _____ (yes or no)\n"
   ],
   "cell_type": "markdown",
   "metadata": {}
  },
  {
   "cell_type": "code",
   "execution_count": null,
   "metadata": {},
   "outputs": [],
   "source": []
  }
 ]
}